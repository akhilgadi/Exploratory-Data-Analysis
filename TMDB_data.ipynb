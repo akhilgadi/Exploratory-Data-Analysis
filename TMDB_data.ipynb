{
 "cells": [
  {
   "cell_type": "markdown",
   "metadata": {},
   "source": [
    "# Investigation of TMDb Movie Dataset "
   ]
  },
  {
   "cell_type": "markdown",
   "metadata": {},
   "source": [
    "## Introducion  -\n",
    "#### The primary goal of the project is to go through the general data analysis process — using basic data analysis technique with NumPy, pandas, and Matplotlib. It contains four parts:\n",
    "<li><a href='#intro'>Introduction </a></li>\n",
    "<li><a href='#questions'>What are some good questions to ask looking at a dataset? </a></li>\n",
    "<li><a href='#w&c'>Data Wrangling / cleaning</a></li>\n",
    "<li><a href='#EDA'>Exploratory Data Analysis</a></li>\n",
    "<li><a href ='#conclude'> Collaborate, visualise, communicate and conclude.</a></li>\n"
   ]
  },
  {
   "cell_type": "markdown",
   "metadata": {},
   "source": [
    "<a id='intro'></a>\n",
    "## Introduction\n",
    "For this Data Analyst project, I selected the TMDb movie dataset from kaggle to investigate. According to kaggle introduction [page](https://www.kaggle.com/tmdb/tmdb-movie-metadata), the data contains information that are provided from The Movie Database (TMDb). It collects 5000+ movies and their rating and basic move information, including user ratings and revenue data.\n",
    "\n",
    "### The potiental problem that can be discussed in the dataset:\n",
    "Accroding Kaggle data overview, the dataset provides some metrics that measure how successful these movies are. These metrics include popularity, revenue and vote average. It also contains some basic information corresponding to the movie like cast, director, keywords, runtime, genres, etc. Any of the basic information can be a key to a success movie. More specificly, these factors can be classified to two categrories as follows:\n",
    "#### Metrics  for Evaluating the Success Movie\n",
    "- popularity\n",
    "- revenue\n",
    "- vote average score\n",
    "\n",
    "#### Potential Key to Affect the Success of a Movie\n",
    "- Budget\n",
    "- Cast\n",
    "- Director\n",
    "- Keywords\n",
    "- Runtime\n",
    "- Genres\n",
    "- Release Date\n",
    "- Vote Average"
   ]
  },
  {
   "cell_type": "markdown",
   "metadata": {},
   "source": [
    "<a id = 'questions'></a>\n",
    "## Questionings\n",
    "\n",
    "**1. Let's define those primary questions here:**\n",
    "<li><a href = '#expensive'>1. Which are the 5 most expensive movies? Comparison between the extremes.</a></li>\n",
    "<li><a href = '#profit'>2. Top 5 most profitable movies? Comparison between the min and max profits.</a></li>\n",
    "<li><a href = '#talked'>3. Most talked about Movies?</a></li>\n",
    "<li><a href = '#runtime'>4. Average runtime of movies?</a></li>\n",
    "<li><a href = '#above7'>5. Movies which are rated above 7 by the critics?</a></li>\n",
    "<li><a href = '#yearvsprofit'>6. Which year did we have the most profitable movies?</a></li>\n",
    "\n",
    "**2. Then there will be a set of seconday questions related to the questions above**\n",
    "<li><a href = '#successful'>1. Most successful genre.</a></li>\n",
    "<li><a href = '#cast'>2. Frequent Cast in movies.</a></li>\n",
    "<li><a href = '#budget'>3. Average budget of the profitable movies.</a></li>\n",
    "<li><a href = '#successful_profit'>4. Average duration of the most profitable movies.</a></li>\n",
    "<li><a href = '#language'>5. Language of the most profitable movies.</a></li>\n",
    "\n",
    "**3. General Explore**\n",
    "<li><a href = '#pptvsyears'>1. Popularity Over Years</a></li>\n",
    "<li><a href = '#pptvsrevenue'>2. The distribution of revenue in different popularity levels in recent five years.</a></li>\n",
    "<li><a href = '#pptvsscorerate'>3. The distribution of revenue in different score rating levels in recent five years.</a></li>"
   ]
  },
  {
   "cell_type": "code",
   "execution_count": 1,
   "metadata": {},
   "outputs": [],
   "source": [
    "# Importing the required packages \n",
    "\n",
    "import numpy as np\n",
    "import pandas as pd\n",
    "import seaborn as sns\n",
    "import ast, json\n",
    "import warnings # Current version of Seaborn generates a bunch of warnings that will be ignored.\n",
    "warnings.filterwarnings('ignore')\n",
    "warnings.simplefilter('ignore')\n",
    "\n",
    "from datetime import datetime\n",
    "import matplotlib.pyplot as plt"
   ]
  },
  {
   "cell_type": "code",
   "execution_count": 2,
   "metadata": {},
   "outputs": [
    {
     "name": "stdout",
     "output_type": "stream",
     "text": [
      "Index(['movie_id', 'title', 'cast', 'crew'], dtype='object')\n",
      "Index(['budget', 'genres', 'homepage', 'id', 'keywords', 'original_language',\n",
      "       'original_title', 'overview', 'popularity', 'production_companies',\n",
      "       'production_countries', 'release_date', 'revenue', 'runtime',\n",
      "       'spoken_languages', 'status', 'tagline', 'title', 'vote_average',\n",
      "       'vote_count'],\n",
      "      dtype='object')\n"
     ]
    }
   ],
   "source": [
    "credits = pd.read_csv('tmdb_5000_credits.csv')\n",
    "movies = pd.read_csv('tmdb_5000_movies.csv')\n",
    "print(credits.columns)\n",
    "print(movies.columns)"
   ]
  },
  {
   "cell_type": "code",
   "execution_count": 3,
   "metadata": {},
   "outputs": [
    {
     "data": {
      "text/html": [
       "<div>\n",
       "<style scoped>\n",
       "    .dataframe tbody tr th:only-of-type {\n",
       "        vertical-align: middle;\n",
       "    }\n",
       "\n",
       "    .dataframe tbody tr th {\n",
       "        vertical-align: top;\n",
       "    }\n",
       "\n",
       "    .dataframe thead th {\n",
       "        text-align: right;\n",
       "    }\n",
       "</style>\n",
       "<table border=\"1\" class=\"dataframe\">\n",
       "  <thead>\n",
       "    <tr style=\"text-align: right;\">\n",
       "      <th></th>\n",
       "      <th>budget</th>\n",
       "      <th>genres</th>\n",
       "      <th>homepage</th>\n",
       "      <th>id</th>\n",
       "      <th>keywords</th>\n",
       "      <th>original_language</th>\n",
       "      <th>original_title</th>\n",
       "      <th>overview</th>\n",
       "      <th>popularity</th>\n",
       "      <th>production_companies</th>\n",
       "      <th>...</th>\n",
       "      <th>spoken_languages</th>\n",
       "      <th>status</th>\n",
       "      <th>tagline</th>\n",
       "      <th>title</th>\n",
       "      <th>vote_average</th>\n",
       "      <th>vote_count</th>\n",
       "      <th>movie_id</th>\n",
       "      <th>title_y</th>\n",
       "      <th>cast</th>\n",
       "      <th>crew</th>\n",
       "    </tr>\n",
       "  </thead>\n",
       "  <tbody>\n",
       "    <tr>\n",
       "      <th>0</th>\n",
       "      <td>237000000</td>\n",
       "      <td>[{\"id\": 28, \"name\": \"Action\"}, {\"id\": 12, \"nam...</td>\n",
       "      <td>http://www.avatarmovie.com/</td>\n",
       "      <td>19995</td>\n",
       "      <td>[{\"id\": 1463, \"name\": \"culture clash\"}, {\"id\":...</td>\n",
       "      <td>en</td>\n",
       "      <td>Avatar</td>\n",
       "      <td>In the 22nd century, a paraplegic Marine is di...</td>\n",
       "      <td>150.437577</td>\n",
       "      <td>[{\"name\": \"Ingenious Film Partners\", \"id\": 289...</td>\n",
       "      <td>...</td>\n",
       "      <td>[{\"iso_639_1\": \"en\", \"name\": \"English\"}, {\"iso...</td>\n",
       "      <td>Released</td>\n",
       "      <td>Enter the World of Pandora.</td>\n",
       "      <td>Avatar</td>\n",
       "      <td>7.2</td>\n",
       "      <td>11800</td>\n",
       "      <td>19995</td>\n",
       "      <td>Avatar</td>\n",
       "      <td>[{\"cast_id\": 242, \"character\": \"Jake Sully\", \"...</td>\n",
       "      <td>[{\"credit_id\": \"52fe48009251416c750aca23\", \"de...</td>\n",
       "    </tr>\n",
       "    <tr>\n",
       "      <th>1</th>\n",
       "      <td>300000000</td>\n",
       "      <td>[{\"id\": 12, \"name\": \"Adventure\"}, {\"id\": 14, \"...</td>\n",
       "      <td>http://disney.go.com/disneypictures/pirates/</td>\n",
       "      <td>285</td>\n",
       "      <td>[{\"id\": 270, \"name\": \"ocean\"}, {\"id\": 726, \"na...</td>\n",
       "      <td>en</td>\n",
       "      <td>Pirates of the Caribbean: At World's End</td>\n",
       "      <td>Captain Barbossa, long believed to be dead, ha...</td>\n",
       "      <td>139.082615</td>\n",
       "      <td>[{\"name\": \"Walt Disney Pictures\", \"id\": 2}, {\"...</td>\n",
       "      <td>...</td>\n",
       "      <td>[{\"iso_639_1\": \"en\", \"name\": \"English\"}]</td>\n",
       "      <td>Released</td>\n",
       "      <td>At the end of the world, the adventure begins.</td>\n",
       "      <td>Pirates of the Caribbean: At World's End</td>\n",
       "      <td>6.9</td>\n",
       "      <td>4500</td>\n",
       "      <td>285</td>\n",
       "      <td>Pirates of the Caribbean: At World's End</td>\n",
       "      <td>[{\"cast_id\": 4, \"character\": \"Captain Jack Spa...</td>\n",
       "      <td>[{\"credit_id\": \"52fe4232c3a36847f800b579\", \"de...</td>\n",
       "    </tr>\n",
       "  </tbody>\n",
       "</table>\n",
       "<p>2 rows × 24 columns</p>\n",
       "</div>"
      ],
      "text/plain": [
       "      budget                                             genres  \\\n",
       "0  237000000  [{\"id\": 28, \"name\": \"Action\"}, {\"id\": 12, \"nam...   \n",
       "1  300000000  [{\"id\": 12, \"name\": \"Adventure\"}, {\"id\": 14, \"...   \n",
       "\n",
       "                                       homepage     id  \\\n",
       "0                   http://www.avatarmovie.com/  19995   \n",
       "1  http://disney.go.com/disneypictures/pirates/    285   \n",
       "\n",
       "                                            keywords original_language  \\\n",
       "0  [{\"id\": 1463, \"name\": \"culture clash\"}, {\"id\":...                en   \n",
       "1  [{\"id\": 270, \"name\": \"ocean\"}, {\"id\": 726, \"na...                en   \n",
       "\n",
       "                             original_title  \\\n",
       "0                                    Avatar   \n",
       "1  Pirates of the Caribbean: At World's End   \n",
       "\n",
       "                                            overview  popularity  \\\n",
       "0  In the 22nd century, a paraplegic Marine is di...  150.437577   \n",
       "1  Captain Barbossa, long believed to be dead, ha...  139.082615   \n",
       "\n",
       "                                production_companies  \\\n",
       "0  [{\"name\": \"Ingenious Film Partners\", \"id\": 289...   \n",
       "1  [{\"name\": \"Walt Disney Pictures\", \"id\": 2}, {\"...   \n",
       "\n",
       "                         ...                          \\\n",
       "0                        ...                           \n",
       "1                        ...                           \n",
       "\n",
       "                                    spoken_languages    status  \\\n",
       "0  [{\"iso_639_1\": \"en\", \"name\": \"English\"}, {\"iso...  Released   \n",
       "1           [{\"iso_639_1\": \"en\", \"name\": \"English\"}]  Released   \n",
       "\n",
       "                                          tagline  \\\n",
       "0                     Enter the World of Pandora.   \n",
       "1  At the end of the world, the adventure begins.   \n",
       "\n",
       "                                      title vote_average vote_count movie_id  \\\n",
       "0                                    Avatar          7.2      11800    19995   \n",
       "1  Pirates of the Caribbean: At World's End          6.9       4500      285   \n",
       "\n",
       "                                    title_y  \\\n",
       "0                                    Avatar   \n",
       "1  Pirates of the Caribbean: At World's End   \n",
       "\n",
       "                                                cast  \\\n",
       "0  [{\"cast_id\": 242, \"character\": \"Jake Sully\", \"...   \n",
       "1  [{\"cast_id\": 4, \"character\": \"Captain Jack Spa...   \n",
       "\n",
       "                                                crew  \n",
       "0  [{\"credit_id\": \"52fe48009251416c750aca23\", \"de...  \n",
       "1  [{\"credit_id\": \"52fe4232c3a36847f800b579\", \"de...  \n",
       "\n",
       "[2 rows x 24 columns]"
      ]
     },
     "execution_count": 3,
     "metadata": {},
     "output_type": "execute_result"
    }
   ],
   "source": [
    "# merging movies version 2\n",
    "moviesv1 = pd.merge(movies, credits, left_on='id', right_on='movie_id', how = 'left', suffixes=('','_y'))\n",
    "moviesv1.head(2)"
   ]
  },
  {
   "cell_type": "code",
   "execution_count": 4,
   "metadata": {},
   "outputs": [
    {
     "name": "stdout",
     "output_type": "stream",
     "text": [
      "Index(['budget', 'genres', 'homepage', 'id', 'keywords', 'original_language',\n",
      "       'original_title', 'overview', 'popularity', 'production_companies',\n",
      "       'production_countries', 'release_date', 'revenue', 'runtime',\n",
      "       'spoken_languages', 'status', 'tagline', 'title', 'vote_average',\n",
      "       'vote_count', 'movie_id', 'title_y', 'cast', 'crew'],\n",
      "      dtype='object')\n"
     ]
    }
   ],
   "source": [
    "print(moviesv1.columns)"
   ]
  },
  {
   "cell_type": "markdown",
   "metadata": {},
   "source": [
    "<a id = 'w&c'></a>\n",
    "### Data wrangling and Cleaning Process\n",
    "\n",
    "After observing the dataset and proposed questions for the analysis we will be keeping only relevent data deleting the unsued data so that we can make our calculation easy and understandable. .\n",
    "\n",
    "#### Steps to be taken to clean the data.\n",
    "1. We need to remove unused column such as id, imdb_id, vote_count, production_company, keywords, homepage etc.\n",
    "2. Removing the duplicacy in the rows(if any).\n",
    "3. Some movies in the database have zero budget or zero revenue, that is there value has not been recorded so we will be discarding such entries.\n",
    "4. Changing release date column into date format.\n",
    "5. Replacing zero with NaN in runtime column.\n",
    "6. Changing format of budget and revenue column."
   ]
  },
  {
   "cell_type": "code",
   "execution_count": 5,
   "metadata": {},
   "outputs": [
    {
     "data": {
      "text/html": [
       "<div>\n",
       "<style scoped>\n",
       "    .dataframe tbody tr th:only-of-type {\n",
       "        vertical-align: middle;\n",
       "    }\n",
       "\n",
       "    .dataframe tbody tr th {\n",
       "        vertical-align: top;\n",
       "    }\n",
       "\n",
       "    .dataframe thead th {\n",
       "        text-align: right;\n",
       "    }\n",
       "</style>\n",
       "<table border=\"1\" class=\"dataframe\">\n",
       "  <thead>\n",
       "    <tr style=\"text-align: right;\">\n",
       "      <th></th>\n",
       "      <th>budget</th>\n",
       "      <th>genres</th>\n",
       "      <th>id</th>\n",
       "      <th>popularity</th>\n",
       "      <th>production_countries</th>\n",
       "      <th>release_date</th>\n",
       "      <th>revenue</th>\n",
       "      <th>runtime</th>\n",
       "      <th>spoken_languages</th>\n",
       "      <th>title</th>\n",
       "      <th>vote_average</th>\n",
       "      <th>vote_count</th>\n",
       "      <th>movie_id</th>\n",
       "      <th>cast</th>\n",
       "      <th>crew</th>\n",
       "    </tr>\n",
       "  </thead>\n",
       "  <tbody>\n",
       "    <tr>\n",
       "      <th>0</th>\n",
       "      <td>237000000</td>\n",
       "      <td>[{\"id\": 28, \"name\": \"Action\"}, {\"id\": 12, \"nam...</td>\n",
       "      <td>19995</td>\n",
       "      <td>150.437577</td>\n",
       "      <td>[{\"iso_3166_1\": \"US\", \"name\": \"United States o...</td>\n",
       "      <td>2009-12-10</td>\n",
       "      <td>2787965087</td>\n",
       "      <td>162.0</td>\n",
       "      <td>[{\"iso_639_1\": \"en\", \"name\": \"English\"}, {\"iso...</td>\n",
       "      <td>Avatar</td>\n",
       "      <td>7.2</td>\n",
       "      <td>11800</td>\n",
       "      <td>19995</td>\n",
       "      <td>[{\"cast_id\": 242, \"character\": \"Jake Sully\", \"...</td>\n",
       "      <td>[{\"credit_id\": \"52fe48009251416c750aca23\", \"de...</td>\n",
       "    </tr>\n",
       "    <tr>\n",
       "      <th>1</th>\n",
       "      <td>300000000</td>\n",
       "      <td>[{\"id\": 12, \"name\": \"Adventure\"}, {\"id\": 14, \"...</td>\n",
       "      <td>285</td>\n",
       "      <td>139.082615</td>\n",
       "      <td>[{\"iso_3166_1\": \"US\", \"name\": \"United States o...</td>\n",
       "      <td>2007-05-19</td>\n",
       "      <td>961000000</td>\n",
       "      <td>169.0</td>\n",
       "      <td>[{\"iso_639_1\": \"en\", \"name\": \"English\"}]</td>\n",
       "      <td>Pirates of the Caribbean: At World's End</td>\n",
       "      <td>6.9</td>\n",
       "      <td>4500</td>\n",
       "      <td>285</td>\n",
       "      <td>[{\"cast_id\": 4, \"character\": \"Captain Jack Spa...</td>\n",
       "      <td>[{\"credit_id\": \"52fe4232c3a36847f800b579\", \"de...</td>\n",
       "    </tr>\n",
       "  </tbody>\n",
       "</table>\n",
       "</div>"
      ],
      "text/plain": [
       "      budget                                             genres     id  \\\n",
       "0  237000000  [{\"id\": 28, \"name\": \"Action\"}, {\"id\": 12, \"nam...  19995   \n",
       "1  300000000  [{\"id\": 12, \"name\": \"Adventure\"}, {\"id\": 14, \"...    285   \n",
       "\n",
       "   popularity                               production_countries release_date  \\\n",
       "0  150.437577  [{\"iso_3166_1\": \"US\", \"name\": \"United States o...   2009-12-10   \n",
       "1  139.082615  [{\"iso_3166_1\": \"US\", \"name\": \"United States o...   2007-05-19   \n",
       "\n",
       "      revenue  runtime                                   spoken_languages  \\\n",
       "0  2787965087    162.0  [{\"iso_639_1\": \"en\", \"name\": \"English\"}, {\"iso...   \n",
       "1   961000000    169.0           [{\"iso_639_1\": \"en\", \"name\": \"English\"}]   \n",
       "\n",
       "                                      title  vote_average  vote_count  \\\n",
       "0                                    Avatar           7.2       11800   \n",
       "1  Pirates of the Caribbean: At World's End           6.9        4500   \n",
       "\n",
       "   movie_id                                               cast  \\\n",
       "0     19995  [{\"cast_id\": 242, \"character\": \"Jake Sully\", \"...   \n",
       "1       285  [{\"cast_id\": 4, \"character\": \"Captain Jack Spa...   \n",
       "\n",
       "                                                crew  \n",
       "0  [{\"credit_id\": \"52fe48009251416c750aca23\", \"de...  \n",
       "1  [{\"credit_id\": \"52fe4232c3a36847f800b579\", \"de...  "
      ]
     },
     "execution_count": 5,
     "metadata": {},
     "output_type": "execute_result"
    }
   ],
   "source": [
    "# First step is to clean the data and see which are the redundant or unnecessary cols\n",
    "\n",
    "del_col_list = ['keywords', 'homepage', 'status', 'tagline', 'original_language', 'homepage', 'production_companies',\n",
    "                'overview', 'original_title', 'title_y']\n",
    "\n",
    "moviesv1 = moviesv1.drop(del_col_list, axis=1)\n",
    "moviesv1.head(2)"
   ]
  },
  {
   "cell_type": "code",
   "execution_count": 6,
   "metadata": {},
   "outputs": [],
   "source": [
    "moviesv1.to_csv('moviesv1.csv')"
   ]
  },
  {
   "cell_type": "code",
   "execution_count": null,
   "metadata": {},
   "outputs": [],
   "source": [
    "print(moviesv1.shape)\n",
    "moviesv1 = moviesv1.drop_duplicates(keep = 'first')\n",
    "print(moviesv1.shape)"
   ]
  },
  {
   "cell_type": "code",
   "execution_count": null,
   "metadata": {},
   "outputs": [],
   "source": [
    "# replacing all the zeros from revenue and budget cols.\n",
    "cols = ['budget','revenue']\n",
    "moviesv1[cols] = moviesv1[cols].replace(0,np.nan)\n",
    "# Dropping all rows in the above colomns with na in the list\n",
    "moviesv1.dropna(subset=cols,inplace = True)\n",
    "moviesv1.shape"
   ]
  },
  {
   "cell_type": "code",
   "execution_count": null,
   "metadata": {},
   "outputs": [],
   "source": [
    "#Changing the release_date column to Date-Time column\n",
    "moviesv1.release_date = pd.to_datetime(moviesv1['release_date'])\n",
    "moviesv1.head(2)"
   ]
  },
  {
   "cell_type": "code",
   "execution_count": null,
   "metadata": {},
   "outputs": [],
   "source": [
    "# Now we need to extract 'release year' from 'release_date'\n",
    "moviesv1['release_year'] = moviesv1['release_date'].dt.year\n",
    "moviesv1.head(2)"
   ]
  },
  {
   "cell_type": "code",
   "execution_count": null,
   "metadata": {},
   "outputs": [],
   "source": [
    "# Changing the data type of the above mentioned columns\n",
    "change_col = ['budget','revenue']\n",
    "moviesv1[change_col] = moviesv1[change_col].applymap(np.int64)\n",
    "moviesv1.dtypes"
   ]
  },
  {
   "cell_type": "markdown",
   "metadata": {},
   "source": [
    "### Cleaning Decision Summary\n",
    "1. Drop unnecessary columns for answering those questions : `homepage`, `tagline`, `imdb_id`, `overview`,`budget_adj`, `revenue_adj`, `Keywords`, `status`, `original_language`, `production_companies`, `original_title`, `title_y`.\n",
    "2. Drop duplicates.\n",
    "3. Drop null values columns that with small quantity of nulls : `cast`, `director`, and `genres`.\n",
    "4. Replace zero values with null values in the `budget` and `revenue` column.\n",
    "5. Drop zero values columns that with small quantity of zeros : `runtime`.\n",
    "6. Changed the Date and time format for year extraction.\n"
   ]
  },
  {
   "cell_type": "markdown",
   "metadata": {},
   "source": [
    "<a id ='EDA'></a>\n",
    "## Exploratory Data Analysis\n",
    "### How to handle the Json in Dataset?\n",
    "\n",
    ">The main problem with this dataset is the .json format. Many columns in the dataset are in json format, therefore cleaning the dataset was the main challenge. For people who don't know about JSON(JavaScript Object Notation), it is basically a syntax for storing and exchanging data between two computers. It is mainly in a key:value format, and is embedded into a string."
   ]
  },
  {
   "cell_type": "code",
   "execution_count": null,
   "metadata": {},
   "outputs": [],
   "source": [
    "# We are going to write a function that changes json data to list\n",
    "\n",
    "def conv_col(col, key):\n",
    "    '''\n",
    "    Arguments - \n",
    "    col - (string) - Name of the string, which the function needs to be applied\n",
    "    kye - (string) - Name of the dictionary key, which the value needs to be extracted\n",
    "    '''\n",
    "    for index, i in zip(moviesv1.index,moviesv1[col].apply(json.loads)):\n",
    "        list1 = []\n",
    "        for j in range(len(i)):\n",
    "            list1.append(i[j][key])\n",
    "        moviesv1.loc[index,col] = str(list1)\n",
    "\n",
    "conv_col('genres','name')\n",
    "conv_col('production_countries','name')\n",
    "conv_col('spoken_languages','name')\n",
    "conv_col('cast','name')"
   ]
  },
  {
   "cell_type": "code",
   "execution_count": null,
   "metadata": {},
   "outputs": [],
   "source": [
    "moviesv1.head(2)"
   ]
  },
  {
   "cell_type": "markdown",
   "metadata": {},
   "source": [
    "##### Defining a function for Minimums and Maximums"
   ]
  },
  {
   "cell_type": "code",
   "execution_count": null,
   "metadata": {},
   "outputs": [],
   "source": [
    "def find_min_max_in(col):\n",
    "    '''\n",
    "    The function takes in column name and returns top 5 and bottom 5 movies dataframe in that column.\n",
    "    arugs: \n",
    "        col = string(column name)\n",
    "    returns:\n",
    "        info_data = dataframe(final 5 movies dataframe)\n",
    "    '''\n",
    "    top = moviesv1[col].idxmax()\n",
    "    top_df = pd.DataFrame(moviesv1.loc[top])\n",
    "    \n",
    "    bottom = moviesv1[col].idxmin()\n",
    "    bottom_df = pd.DataFrame(moviesv1.loc[bottom])\n",
    "    \n",
    "    info_df = pd.concat([top_df,bottom_df],axis = 1)\n",
    "    return info_df\n",
    "find_min_max_in('budget')"
   ]
  },
  {
   "cell_type": "markdown",
   "metadata": {},
   "source": [
    "<a id = 'expensive'></a>\n",
    "### Top 5 expensive movies"
   ]
  },
  {
   "cell_type": "code",
   "execution_count": null,
   "metadata": {},
   "outputs": [],
   "source": [
    "# To find the top 5 expensive movies, we will sort the data according to the budget of each movie\n",
    "expensive_moviesv1 = moviesv1.sort_values(by = 'budget',ascending=False).head()\n",
    "expensive_moviesv1"
   ]
  },
  {
   "cell_type": "code",
   "execution_count": null,
   "metadata": {},
   "outputs": [],
   "source": [
    "#make a plot which contain top 10 highest budget movies.\n",
    "#sort the 'budget' column in decending order and store it in the new dataframe.\n",
    "info = pd.DataFrame(moviesv1['budget'].sort_values(ascending = False))\n",
    "info['title'] = moviesv1['title']\n",
    "data = list(map(str,(info['title'])))\n",
    "\n",
    "#extract the top 10 budget movies data from the list and dataframe.\n",
    "x = list(data[:10])\n",
    "y = list(info['budget'][:10])\n",
    "\n",
    "#plot the figure and setup the title and labels.\n",
    "ax = sns.pointplot(x=y,y=x)\n",
    "sns.set(rc={'figure.figsize':(20,10)})\n",
    "ax.set_title(\"Top 10 Expensives Movies\",fontsize = 15)\n",
    "ax.set_xlabel(\"Budget\",fontsize = 13)\n",
    "sns.set_style(\"darkgrid\")"
   ]
  },
  {
   "cell_type": "markdown",
   "metadata": {},
   "source": [
    "<a id ='profit'></a>\n",
    "### Top 5 profitable movies"
   ]
  },
  {
   "cell_type": "code",
   "execution_count": null,
   "metadata": {},
   "outputs": [],
   "source": [
    "# we are going to create a new column \"profit\"\n",
    "moviesv1['profit'] = moviesv1['revenue'] - moviesv1['budget']\n",
    "col = ['budget',\n",
    "       'revenue',\n",
    "       'profit',\n",
    "       'title',\n",
    "       'genres',\n",
    "       'id',\n",
    "       'popularity',\n",
    "       'production_countries',\n",
    "       'release_date',\n",
    "       'release_year',\n",
    "       'runtime',\n",
    "       'spoken_languages',\n",
    "       'cast',\n",
    "       'vote_average',\n",
    "       'vote_count']\n",
    "moviesv1 = moviesv1[col]\n",
    "moviesv1.head(2)"
   ]
  },
  {
   "cell_type": "code",
   "execution_count": null,
   "metadata": {},
   "outputs": [],
   "source": [
    "find_min_max_in('profit')"
   ]
  },
  {
   "cell_type": "code",
   "execution_count": null,
   "metadata": {},
   "outputs": [],
   "source": [
    "#make a plot which contain top 10 movies which earn highest profit.\n",
    "#sort the 'Profit' column in decending order and store it in the new dataframe,\n",
    "info = pd.DataFrame(moviesv1['profit'].sort_values(ascending = False))\n",
    "info['title'] = moviesv1['title']\n",
    "data = list(map(str,(info['title'])))\n",
    "x = list(data[:10])\n",
    "y = list(info['profit'][:10])\n",
    "\n",
    "#make a plot usinf pointplot for top 10 profitable movies.\n",
    "ax = sns.pointplot(x=y,y=x)\n",
    "\n",
    "#setup the figure size\n",
    "sns.set(rc={'figure.figsize':(20,10)})\n",
    "#setup the title and labels of the plot.\n",
    "ax.set_title(\"Top 10 Profitable Movies\",fontsize = 15)\n",
    "ax.set_xlabel(\"Profit\",fontsize = 13)\n",
    "sns.set_style(\"darkgrid\")"
   ]
  },
  {
   "cell_type": "markdown",
   "metadata": {},
   "source": [
    "<a id = 'talked'></a>\n",
    "### Most talked(popular) movies all time"
   ]
  },
  {
   "cell_type": "code",
   "execution_count": null,
   "metadata": {},
   "outputs": [],
   "source": [
    "# to find the most talked about movies, we can sort the dataframe on the popularity column\n",
    "popular_movies = moviesv1.sort_values(by ='popularity', ascending=False).head()\n",
    "popular_movies.head()"
   ]
  },
  {
   "cell_type": "code",
   "execution_count": null,
   "metadata": {},
   "outputs": [],
   "source": [
    "# comparision btwn max and min\n",
    "find_min_max_in('popularity')"
   ]
  },
  {
   "cell_type": "code",
   "execution_count": null,
   "metadata": {},
   "outputs": [],
   "source": [
    "#make a plot which contain top 10 movies which earn highest profit.\n",
    "#sort the 'Profit' column in decending order and store it in the new dataframe,\n",
    "info = pd.DataFrame(moviesv1['popularity'].sort_values(ascending = False))\n",
    "info['title'] = moviesv1['title']\n",
    "data = list(map(str,(info['title'])))\n",
    "x = list(data[:10])\n",
    "y = list(info['popularity'][:10])\n",
    "\n",
    "#make a plot usinf pointplot for top 10 profitable movies.\n",
    "ax = sns.pointplot(x=y,y=x)\n",
    "\n",
    "#setup the figure size\n",
    "sns.set(rc={'figure.figsize':(20,10)})\n",
    "#setup the title and labels of the plot.\n",
    "ax.set_title(\"Top 10 popular Movies\",fontsize = 20)\n",
    "ax.set_xlabel(\"Profit\",fontsize = 17)\n",
    "sns.set_style(\"darkgrid\")"
   ]
  },
  {
   "cell_type": "markdown",
   "metadata": {},
   "source": [
    "<a id = 'runtime'></a>\n",
    "### Most Runtime with max and min  "
   ]
  },
  {
   "cell_type": "code",
   "execution_count": null,
   "metadata": {},
   "outputs": [],
   "source": [
    "# sorting on basis of runtime\n",
    "runtime_movies = moviesv1.sort_values(by = 'runtime', ascending=False)\n",
    "runtime_movies.head()"
   ]
  },
  {
   "cell_type": "code",
   "execution_count": null,
   "metadata": {},
   "outputs": [],
   "source": [
    "# max and min for runtime\n",
    "find_min_max_in('runtime')"
   ]
  },
  {
   "cell_type": "code",
   "execution_count": null,
   "metadata": {},
   "outputs": [],
   "source": [
    "#make a plot which contain top 10 movies which earn highest profit.\n",
    "#sort the 'Profit' column in decending order and store it in the new dataframe,\n",
    "info = pd.DataFrame(moviesv1['runtime'].sort_values(ascending = False))\n",
    "info['title'] = moviesv1['title']\n",
    "data = list(map(str,(info['title'])))\n",
    "x = list(data[:10])\n",
    "y = list(info['runtime'][:10])\n",
    "\n",
    "#make a plot usinf pointplot for top 10 profitable movies.\n",
    "ax = sns.pointplot(x=y,y=x)\n",
    "\n",
    "#setup the figure size\n",
    "sns.set(rc={'figure.figsize':(20,10)})\n",
    "#setup the title and labels of the plot.\n",
    "ax.set_title(\"Top 10 runtime Movies\",fontsize = 25)\n",
    "ax.set_xlabel(\"Profit\",fontsize = 20)\n",
    "sns.set_style(\"darkgrid\")"
   ]
  },
  {
   "cell_type": "code",
   "execution_count": null,
   "metadata": {},
   "outputs": [],
   "source": [
    "# mean of runtime \n",
    "moviesv1['runtime'].mean()"
   ]
  },
  {
   "cell_type": "code",
   "execution_count": null,
   "metadata": {},
   "outputs": [],
   "source": [
    "# graphing the above dataset\n",
    "plt.figure(figsize = (9,5),dpi = 100)\n",
    "plt.xlabel('Runtime of the Movies',fontsize = 15)\n",
    "plt.ylabel('Nos. of the movies for the dataset', fontsize = 15)\n",
    "plt.title('Runtimes of all the movies in the dataset', fontsize = 15)\n",
    "plt.hist(moviesv1['runtime'],rwidth=0.9, bins=35)\n",
    "plt.show()"
   ]
  },
  {
   "cell_type": "markdown",
   "metadata": {},
   "source": [
    "<a id  = 'above7'></a>\n",
    "### Movies above 7 rating"
   ]
  },
  {
   "cell_type": "code",
   "execution_count": null,
   "metadata": {},
   "outputs": [],
   "source": [
    "moviesv1[moviesv1['vote_average']>=7.0]"
   ]
  },
  {
   "cell_type": "code",
   "execution_count": null,
   "metadata": {},
   "outputs": [],
   "source": [
    "#top 10 highets rated movies.\n",
    "#sort the 'vote_average' column in decending order and store it in the new dataframe.\n",
    "info = pd.DataFrame(moviesv1['vote_average'].sort_values(ascending = False))\n",
    "info['original_title'] = moviesv1['title']\n",
    "data = list(map(str,(info['original_title'])))\n",
    "\n",
    "##extract the top 10 highly rated movies data from the list and dataframe.\n",
    "x = list(data[:10])\n",
    "y = list(info['vote_average'][:10])\n",
    "\n",
    "#make the point plot and setup the title and labels.\n",
    "ax = sns.pointplot(x=y,y=x)\n",
    "sns.set(rc={'figure.figsize':(10,5)})\n",
    "ax.set_title(\"Top 10 Highest Rated Movies\",fontsize = 15)\n",
    "ax.set_xlabel(\"Vote Average\",fontsize = 13)\n",
    "#setup the stylesheet\n",
    "sns.set_style(\"darkgrid\")"
   ]
  },
  {
   "cell_type": "markdown",
   "metadata": {},
   "source": [
    "<a id = 'yearvsprofit'></a>\n",
    "### The Years with most profitable movies occured"
   ]
  },
  {
   "cell_type": "code",
   "execution_count": null,
   "metadata": {},
   "outputs": [],
   "source": [
    "# Grouping the data accordingly\n",
    "profit_year = moviesv1.groupby('release_year')['profit'].sum()\n",
    "plt.figure(figsize=(12,6),dpi = 130)\n",
    "plt.xlabel('Year of the movie released',fontsize = 12)\n",
    "plt.ylabel('Profits earned by the movies', fontsize = 12)\n",
    "plt.title('Representing year of the movies released Vs profits earned')\n",
    "plt.plot(profit_year)\n",
    "plt.show()"
   ]
  },
  {
   "cell_type": "code",
   "execution_count": null,
   "metadata": {},
   "outputs": [],
   "source": [
    "# Most profitable year\n",
    "profit_year.idxmax()"
   ]
  },
  {
   "cell_type": "markdown",
   "metadata": {},
   "source": [
    "### Answering  secondary questions"
   ]
  },
  {
   "cell_type": "code",
   "execution_count": null,
   "metadata": {},
   "outputs": [],
   "source": [
    "# filtering out the profit(more than $50M) data from the dataset\n",
    "profit_data = moviesv1[moviesv1['profit']>=50000000]\n",
    "profit_data.index = range(len(profit_data))\n",
    "profit_data.index = profit_data.index + 1\n",
    "profit_data.head(3)"
   ]
  },
  {
   "cell_type": "markdown",
   "metadata": {},
   "source": [
    "<a id = 'successful'></a>\n",
    "### Most Successful Genres"
   ]
  },
  {
   "cell_type": "code",
   "execution_count": null,
   "metadata": {},
   "outputs": [],
   "source": [
    "# Changing the format of the data\n",
    "profit_data['genres'] = profit_data['genres'].str.strip('[]').str.replace(' ','').str.replace(\"'\",'')\n",
    "profit_data['genres'] = profit_data['genres'].str.split(',')\n",
    "profit_data.head(2)"
   ]
  },
  {
   "cell_type": "code",
   "execution_count": null,
   "metadata": {},
   "outputs": [],
   "source": [
    "# Graphing the above data\n",
    "plt.subplots(figsize = (12,10))\n",
    "list1 = []\n",
    "for i in profit_data['genres']:\n",
    "    list1.extend(i)\n",
    "ax = pd.Series(list1).value_counts()[:10].sort_values(ascending = True).plot.barh(\n",
    "    width = 0.9,\n",
    "    color = sns.color_palette('summer_r',10))\n",
    "\n",
    "for i, v in enumerate(pd.Series(list1).value_counts()[:10].sort_values(ascending = True).values):\n",
    "    ax.text(.8,i,v,fontsize=12,color='white',weight='bold')\n",
    "ax.patches[9].set_facecolor('r')\n",
    "plt.title('Top Genres')\n",
    "plt.show()"
   ]
  },
  {
   "cell_type": "markdown",
   "metadata": {},
   "source": [
    "<a id = 'cast'></a>\n",
    "### Most frequent Cast"
   ]
  },
  {
   "cell_type": "code",
   "execution_count": null,
   "metadata": {},
   "outputs": [],
   "source": [
    "profit_data['cast'] = profit_data['cast'].str.strip('[]').str.replace(' ','').str.replace(\"'\",'')\n",
    "profit_data['cast'] = profit_data['cast'].str.split(',')\n",
    "profit_data.head(2)"
   ]
  },
  {
   "cell_type": "code",
   "execution_count": null,
   "metadata": {},
   "outputs": [],
   "source": [
    "# Graphing the above data\n",
    "plt.subplots(figsize = (12,10))\n",
    "list1 = []\n",
    "for i in profit_data['cast']:\n",
    "    list1.extend(i)\n",
    "ax = pd.Series(list1).value_counts()[:10].sort_values(ascending = True).plot.barh(width=0.9,color=sns.color_palette('summer_r',10))\n",
    "\n",
    "for i, v in enumerate(pd.Series(list1).value_counts()[:10].sort_values(ascending = True).values):\n",
    "    ax.text(.8,i,v,fontsize=12,color='white',weight='bold')\n",
    "ax.patches[9].set_facecolor('r')\n",
    "plt.title('Top Casts')\n",
    "plt.show()"
   ]
  },
  {
   "cell_type": "markdown",
   "metadata": {},
   "source": [
    "<a id = 'budget'></a>\n",
    "### Average Budget of profitable movies"
   ]
  },
  {
   "cell_type": "code",
   "execution_count": null,
   "metadata": {},
   "outputs": [],
   "source": [
    "profit_data['budget'].mean()"
   ]
  },
  {
   "cell_type": "markdown",
   "metadata": {},
   "source": [
    "<a id = 'successful_profit'></a>\n",
    "### Average Runtime of profitable movies"
   ]
  },
  {
   "cell_type": "code",
   "execution_count": null,
   "metadata": {},
   "outputs": [],
   "source": [
    "profit_data['runtime'].mean()"
   ]
  },
  {
   "cell_type": "markdown",
   "metadata": {},
   "source": [
    "<a id = 'language'></a>\n",
    "### Language of the most profitable movies."
   ]
  },
  {
   "cell_type": "code",
   "execution_count": null,
   "metadata": {},
   "outputs": [],
   "source": [
    "profit_data['spoken_languages'] = profit_data['spoken_languages'].str.strip('[]').str.replace(' ','').str.replace(\"'\",'')\n",
    "profit_data['spoken_languages'] = profit_data['spoken_languages'].str.split(',')\n",
    "\n",
    "plt.subplots(figsize = (12,10))\n",
    "list1 = []\n",
    "for i in profit_data['spoken_languages']:\n",
    "    list1.extend(i)\n",
    "ax = pd.Series(list1).value_counts()[:10].sort_values(ascending=True).plot.barh(width = 0.9,color=sns.color_palette('summer_r',10))\n",
    "\n",
    "for i, v in enumerate(pd.Series(list1).value_counts()[:10].sort_values(ascending=True).values):\n",
    "    ax.text(.8,i,v,fontsize=12,color='white',weight='bold')\n",
    "plt.title('Most spoken languages')\n",
    "plt.show()"
   ]
  },
  {
   "cell_type": "markdown",
   "metadata": {},
   "source": [
    "<a id = 'pptvsyears'></a>\n",
    "### Popularity over years"
   ]
  },
  {
   "cell_type": "code",
   "execution_count": null,
   "metadata": {},
   "outputs": [],
   "source": [
    "p_mean = moviesv1.groupby('release_year').mean()['popularity']\n",
    "p_mean.tail()"
   ]
  },
  {
   "cell_type": "code",
   "execution_count": null,
   "metadata": {},
   "outputs": [],
   "source": [
    "p_median = moviesv1.groupby('release_year').median()['popularity']\n",
    "p_median.tail()"
   ]
  },
  {
   "cell_type": "code",
   "execution_count": null,
   "metadata": {},
   "outputs": [],
   "source": [
    "# Graphing the above data\n",
    "# indexing for the x-axis\n",
    "index_mean = p_mean.index\n",
    "index_median = p_median.index\n",
    "sns.set_style('whitegrid') # Setting style for the graph\n",
    "x1, y1 = index_mean, p_mean\n",
    "x2,y2 = index_median,p_median\n",
    "plt.figure(figsize=(9,4))\n",
    "plt.plot(x1,y1, color = 'g',label = 'Mean')\n",
    "plt.plot(x2,y2, color = 'r', label = \"Median\")\n",
    "plt.xlabel('Year')\n",
    "plt.ylabel('Popularity')\n",
    "plt.title('Popularity over years')\n",
    "plt.legend(loc='upper left')"
   ]
  },
  {
   "cell_type": "markdown",
   "metadata": {},
   "source": [
    "<a id = 'pptvsrevenue'></a>\n",
    "### Distribution of revenue in different popularity levels in recent five years."
   ]
  },
  {
   "cell_type": "code",
   "execution_count": null,
   "metadata": {},
   "outputs": [],
   "source": [
    "# quartile function\n",
    "def cut_into_quantile(dfname ,column_name):\n",
    "# find quartile, max and min values\n",
    "    min_value = dfname[column_name].min()\n",
    "    first_quantile = dfname[column_name].describe()[4]\n",
    "    second_quantile = dfname[column_name].describe()[5]\n",
    "    third_quantile = dfname[column_name].describe()[6]\n",
    "    max_value = dfname[column_name].max()\n",
    "# Bin edges that will be used to \"cut\" the data into groups\n",
    "    bin_edges = [ min_value, first_quantile, second_quantile, third_quantile, max_value]\n",
    "# Labels for the four budget level groups\n",
    "    bin_names = [ 'Low', 'Medium', 'Moderately High', 'High'] \n",
    "# Creates budget_levels column\n",
    "    name = '{}_levels'.format(column_name)\n",
    "    dfname[name] = pd.cut(dfname[column_name], bin_edges, labels=bin_names, include_lowest = True)\n",
    "    return dfname"
   ]
  },
  {
   "cell_type": "code",
   "execution_count": null,
   "metadata": {},
   "outputs": [],
   "source": [
    "#choose the recent five years \n",
    "dfyear =[2012,2013,2014,2015,2016]\n",
    "#creat a empty dataframe,df_q2\n",
    "df_q2 = pd.DataFrame()\n",
    "\n",
    "#for each year, do the following procedure\n",
    "for year in dfyear:\n",
    "    dfn = moviesv1.query('release_year == \"%s\"' % year) # first filter dataframe with the selected year \n",
    "    dfn2 = cut_into_quantile(dfn,'revenue') #apply the cut_into_quantile with the selected frame, store it to dfn2 \n",
    "    df_q2 = df_q2.append(dfn2) #append dfn2 to df_q2\n",
    "df_q2.info()"
   ]
  },
  {
   "cell_type": "code",
   "execution_count": null,
   "metadata": {},
   "outputs": [],
   "source": [
    "dfq2_summary = df_q2.groupby(['release_year','revenue_levels']).median()\n",
    "dfq2_summary.tail(8)"
   ]
  },
  {
   "cell_type": "code",
   "execution_count": null,
   "metadata": {},
   "outputs": [],
   "source": [
    "# Setting the positions and width for the bars\n",
    "pos = list(range(len(dfq2_summary.query('revenue_levels ==\"Low\"'))))\n",
    "width = 0.2 \n",
    "\n",
    "# Plotting the bars\n",
    "fig, ax = plt.subplots(figsize=(10,5))\n",
    "\n",
    "# Create a bar with Low data, in position pos,\n",
    "plt.bar(pos, \n",
    "        #using 'Low' data,\n",
    "        dfq2_summary.query('revenue_levels ==\"Low\"')['popularity'], \n",
    "        # of width\n",
    "        width, \n",
    "        # with alpha 0.5\n",
    "        alpha=0.5, \n",
    "        # with color\n",
    "        color='#EE3224', \n",
    "        # with label Low\n",
    "        label= 'Low') \n",
    "\n",
    "# Create a bar with Medium data,\n",
    "# in position pos + some width buffer,\n",
    "plt.bar([p + width for p in pos], \n",
    "        #using Medium data,\n",
    "        dfq2_summary.query('revenue_levels ==\"Medium\"')['popularity'],\n",
    "        # of width\n",
    "        width, \n",
    "        # with alpha 0.5\n",
    "        alpha=0.5, \n",
    "        # with color\n",
    "        color='#F78F1E', \n",
    "        # with label Medium\n",
    "        label='Medium') \n",
    "\n",
    "# Create a bar with Moderately High data,\n",
    "# in position pos + some width buffer,\n",
    "plt.bar([p + width*2 for p in pos], \n",
    "        #using Moderately High data,\n",
    "        dfq2_summary.query('revenue_levels ==\"Moderately High\"')['popularity'], \n",
    "        # of width\n",
    "        width, \n",
    "        # with alpha 0.5\n",
    "        alpha=0.5, \n",
    "        # with color\n",
    "        color='#FFC222', \n",
    "        # with label Moderately High\n",
    "        label='Moderately High') \n",
    "\n",
    "# Create a bar with High data,\n",
    "# in position pos + some width buffer,\n",
    "plt.bar([p + width*3 for p in pos], \n",
    "        #using High data,\n",
    "        dfq2_summary.query('revenue_levels ==\"High\"')['popularity'], \n",
    "        # of width\n",
    "        width, \n",
    "        # with alpha 0.5\n",
    "        alpha=0.5, \n",
    "        # with color\n",
    "        color='#4fb427', \n",
    "        # with label High\n",
    "        label='High')\n",
    "\n",
    "# Set the y axis label\n",
    "ax.set_ylabel('popularity')\n",
    "\n",
    "# Set the chart's title\n",
    "ax.set_title('Popularity in Different Revenue Levels in Recent Five Years')\n",
    "\n",
    "# Set the position of the x ticks\n",
    "ax.set_xticks([p + 1.5 * width for p in pos])\n",
    "\n",
    "# Set the labels for the x ticks\n",
    "ax.set_xticklabels([2012,2013,2014,2015,2016])\n",
    "\n",
    "# Adding the legend and showing the plot\n",
    "plt.legend( loc='upper left')\n",
    "plt.grid()\n",
    "plt.show()"
   ]
  },
  {
   "cell_type": "markdown",
   "metadata": {},
   "source": [
    "**We can see that movies with higher revenue level are with higher popularity in recent five years.**\n",
    "\n",
    "We can see that revenue level has postive relation with popularity. The result is reasonable since it makes me think of if movie producer wants to make high revenue movies, the first thing they always is **to promote it and make it popular.** So according the result from the previous question, I infer that a high revenue movie is always with a higher popularity than movies with lower revenue levels. So if we define success of a movie is it's revenue, one property it has is the high popularity."
   ]
  },
  {
   "cell_type": "markdown",
   "metadata": {},
   "source": [
    "<a id = 'pptvsscorerate'></a>\n",
    "### Distribution of revenue in different vote_average in recent five years."
   ]
  },
  {
   "cell_type": "code",
   "execution_count": null,
   "metadata": {},
   "outputs": [],
   "source": [
    "# group the dataframe we created above with each revenue levels in each year, find the vote_average mean\n",
    "dfq2_summary = df_q2.groupby(['release_year','revenue_levels']).mean()\n",
    "dfq2_summary.tail(4)"
   ]
  },
  {
   "cell_type": "code",
   "execution_count": null,
   "metadata": {},
   "outputs": [],
   "source": [
    "# Setting the positions and width for the bars\n",
    "pos = list(range(len(dfq2_summary.query('revenue_levels ==\"Low\"'))))\n",
    "width = 0.2 \n",
    "\n",
    "# Plotting the bars\n",
    "fig, ax = plt.subplots(figsize=(12,3))\n",
    "\n",
    "# Create a bar with Low data, in position pos,\n",
    "plt.bar(pos, \n",
    "        #using 'Low' data,\n",
    "        dfq2_summary.query('revenue_levels ==\"Low\"')['vote_average'], \n",
    "        # of width\n",
    "        width, \n",
    "        # with alpha 0.5\n",
    "        alpha=0.5, \n",
    "        # with color\n",
    "        color='#EE3224', \n",
    "        # with label Low\n",
    "        label= 'Low') \n",
    "\n",
    "# Create a bar with Medium data,\n",
    "# in position pos + some width buffer,\n",
    "plt.bar([p + width for p in pos], \n",
    "        #using Medium data,\n",
    "        dfq2_summary.query('revenue_levels ==\"Medium\"')['vote_average'],\n",
    "        # of width\n",
    "        width, \n",
    "        # with alpha 0.5\n",
    "        alpha=0.5, \n",
    "        # with color\n",
    "        color='#F78F1E', \n",
    "        # with label Medium\n",
    "        label='Medium') \n",
    "\n",
    "# Create a bar with Moderately High data,\n",
    "# in position pos + some width buffer,\n",
    "plt.bar([p + width*2 for p in pos], \n",
    "        #using Moderately High data,\n",
    "        dfq2_summary.query('revenue_levels ==\"Moderately High\"')['vote_average'], \n",
    "        # of width\n",
    "        width, \n",
    "        # with alpha 0.5\n",
    "        alpha=0.5, \n",
    "        # with color\n",
    "        color='#FFC222', \n",
    "        # with label Moderately High\n",
    "        label='Moderately High') \n",
    "\n",
    "# Create a bar with High data,\n",
    "# in position pos + some width buffer,\n",
    "plt.bar([p + width*3 for p in pos], \n",
    "        #using High data,\n",
    "        dfq2_summary.query('revenue_levels ==\"High\"')['vote_average'], \n",
    "        # of width\n",
    "        width, \n",
    "        # with alpha 0.5\n",
    "        alpha=0.5, \n",
    "        # with color\n",
    "        color='#4fb427', \n",
    "        # with label High\n",
    "        label='High')\n",
    "\n",
    "# Set the y axis label\n",
    "ax.set_ylabel('vote average')\n",
    "\n",
    "# Set the chart's title\n",
    "ax.set_title('Vote Average Score in Different Revenue Levels in Recent Five Years')\n",
    "\n",
    "# Set the position of the x ticks\n",
    "ax.set_xticks([p + 1.5 * width for p in pos])\n",
    "\n",
    "# Set the labels for the x ticks\n",
    "ax.set_xticklabels([2012,2013,2014,2015,2016])\n",
    "\n",
    "#set y-axis height\n",
    "plt.ylim(3, 10)\n",
    "\n",
    "# Adding the legend and showing the plot\n",
    "plt.legend(loc='upper left')\n",
    "plt.grid()\n",
    "plt.show()"
   ]
  },
  {
   "cell_type": "markdown",
   "metadata": {},
   "source": [
    "**From the chart above, we can see that there is no big difference of movie rating between each revenue level. So it can be concluded that the high revenue movies don't have the significant high score rating.**"
   ]
  },
  {
   "cell_type": "markdown",
   "metadata": {},
   "source": [
    "<a id = 'conclude'></a>\n",
    "## Conclusion\n",
    "\n",
    "### For a successful movie\n",
    " - Average Budget must be around 63 millon dollar\n",
    " - Average duration of the movie must be 114 minutes\n",
    " - Any one of these should be in the cast : Samuel Jackson, Robert De Neiro, Morgan Freeman, Bruce Willis\n",
    " - Genre must be : Action, Adventure, Thriller, Comedy, Drama.\n",
    " - By doing all this the movie might be one of the hits and hence can earn an average revenue of around 262 million dollar.\n",
    " - Movies with higher revenue level are with higher popularity in recent five years.\n",
    " - Higher revenue movies don't have significant high score ratinig"
   ]
  },
  {
   "cell_type": "code",
   "execution_count": null,
   "metadata": {},
   "outputs": [],
   "source": []
  }
 ],
 "metadata": {
  "kernelspec": {
   "display_name": "Python 3",
   "language": "python",
   "name": "python3"
  },
  "language_info": {
   "codemirror_mode": {
    "name": "ipython",
    "version": 3
   },
   "file_extension": ".py",
   "mimetype": "text/x-python",
   "name": "python",
   "nbconvert_exporter": "python",
   "pygments_lexer": "ipython3",
   "version": "3.7.1"
  }
 },
 "nbformat": 4,
 "nbformat_minor": 2
}
